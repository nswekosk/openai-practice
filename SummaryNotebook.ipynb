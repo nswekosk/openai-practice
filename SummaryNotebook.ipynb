{
 "cells": [
  {
   "cell_type": "code",
   "execution_count": 18,
   "id": "4710f8b5",
   "metadata": {},
   "outputs": [],
   "source": [
    "from langchain import PromptTemplate, LLMChain\n",
    "from langchain.chat_models import ChatOpenAI\n",
    "from langchain.text_splitter import CharacterTextSplitter\n",
    "from langchain.chains.mapreduce import MapReduceChain\n",
    "from langchain.prompts import PromptTemplate\n",
    "from langchain.document_loaders import PyPDFLoader\n",
    "from langchain.chains.summarize import load_summarize_chain"
   ]
  },
  {
   "cell_type": "code",
   "execution_count": 19,
   "id": "e26d45a2",
   "metadata": {},
   "outputs": [],
   "source": [
    "def summarize_pdf_with_template(openAI_key, model_name, file_path, prompt_template, verbose = True):\n",
    "    loader = PyPDFLoader(file_path)\n",
    "    documents = loader.load()\n",
    "    if(verbose):\n",
    "        print(\"Number of docs: \",len(documents));\n",
    "    text_splitter = CharacterTextSplitter(chunk_size=1000, chunk_overlap=0)\n",
    "    texts = text_splitter.split_documents(documents)\n",
    "    llm = ChatOpenAI(openai_api_key=openAI_key, model_name=model_name);\n",
    "    \n",
    "    PROMPT = PromptTemplate(template=prompt_template, input_variables=[\"text\"])\n",
    "    chain = load_summarize_chain(llm, chain_type=\"map_reduce\", return_intermediate_steps=False, map_prompt=PROMPT, combine_prompt=PROMPT)\n",
    "    return chain.run(texts)"
   ]
  },
  {
   "cell_type": "code",
   "execution_count": 20,
   "id": "3a9b3c5e",
   "metadata": {},
   "outputs": [
    {
     "name": "stdout",
     "output_type": "stream",
     "text": [
      "Number of docs:  8\n",
      "SUMMARY:  Key Takeaways:\n",
      "\n",
      "1. Application orchestration in edge/fog and cloud computing infrastructures requires advanced orchestration techniques and raises trust concerns regarding data origin and identity.\n",
      "2. Blockchain technology provides inherent security mechanisms that can strengthen the security of edge components and enable auditable, easily traceable records.\n",
      "3. Trusted Orchestration Management (TOM) requires a trustworthy mechanism focused on identity, provenance, and orchestration as aspects of a facetted smart contracts approach.\n",
      "4. The proposed architecture pattern for TOM involves an orchestrator, containers, data, and a set of core activities, with all actions recorded in the blockchain to guarantee data provenance and the identity of all entities stored.\n",
      "5. Implementation options for the architecture pattern include Docker Swarm and Kubernetes as container cluster engines, and Hyperledger Fabric as a permissioned blockchain platform.\n",
      "6. Security concerns such as identity management, data provenance, and smart contracts need to be addressed to ensure trust in an open environment that crosses organizational boundaries.\n"
     ]
    }
   ],
   "source": [
    "prompt = \"\"\"You are a very smart chatbot that is an expert in the IT infrastructure industry. Summarize the following text with the most unique and helpful points pertaining to application orchestration into a numbered list of key points and takeaways.\"\n",
    " \n",
    " \n",
    "{text}\n",
    "\"\"\"\n",
    "openAIKey = os.environ['OPENAI_API_KEY'];\n",
    "file_path = \"\";\n",
    "model_name = \"gpt-3.5-turbo\";\n",
    "summary = summarize_pdf_with_template(openAIKey, model_name, file_path, prompt);\n",
    "\n",
    "print(\"SUMMARY: \", summary);"
   ]
  }
 ],
 "metadata": {
  "kernelspec": {
   "display_name": "Poetry",
   "language": "python",
   "name": "poetry-kernel"
  },
  "language_info": {
   "codemirror_mode": {
    "name": "ipython",
    "version": 3
   },
   "file_extension": ".py",
   "mimetype": "text/x-python",
   "name": "python",
   "nbconvert_exporter": "python",
   "pygments_lexer": "ipython3",
   "version": "3.11.3"
  }
 },
 "nbformat": 4,
 "nbformat_minor": 5
}
